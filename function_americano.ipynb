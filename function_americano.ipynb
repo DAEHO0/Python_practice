{
 "cells": [
  {
   "cell_type": "markdown",
   "id": "016b9148",
   "metadata": {},
   "source": [
    "### 함수"
   ]
  },
  {
   "cell_type": "code",
   "execution_count": 2,
   "id": "1500f650",
   "metadata": {},
   "outputs": [],
   "source": [
    "# test 함수 생성\n",
    "def test():\n",
    "    print(\"함수 연습\")"
   ]
  },
  {
   "cell_type": "code",
   "execution_count": 3,
   "id": "3001ea49",
   "metadata": {},
   "outputs": [
    {
     "name": "stdout",
     "output_type": "stream",
     "text": [
      "함수 연습\n"
     ]
    }
   ],
   "source": [
    "# 함수 호출\n",
    "test()"
   ]
  },
  {
   "cell_type": "code",
   "execution_count": 5,
   "id": "5704df6f",
   "metadata": {},
   "outputs": [],
   "source": [
    "# 기온이 0도 보다 높으면 '아이스 아메리카노'를 출력하고,\n",
    "# 그렇지 않은 경우에는 '따듯한 아메리카노'를 출력하는 함수 생성\n",
    "\n",
    "def coffee(temp):\n",
    "    if temp > 0 :\n",
    "        print('아이스 아메리카노')\n",
    "    else:\n",
    "        print('따뜻한 아메리카노')"
   ]
  },
  {
   "cell_type": "code",
   "execution_count": 6,
   "id": "07f511b2",
   "metadata": {},
   "outputs": [
    {
     "name": "stdout",
     "output_type": "stream",
     "text": [
      "아이스 아메리카노\n"
     ]
    }
   ],
   "source": [
    "# 기온 30도\n",
    "coffee(30)"
   ]
  },
  {
   "cell_type": "code",
   "execution_count": 8,
   "id": "89f2591e",
   "metadata": {},
   "outputs": [
    {
     "name": "stdout",
     "output_type": "stream",
     "text": [
      "따뜻한 아메리카노\n"
     ]
    }
   ],
   "source": [
    "# 기온 -10도\n",
    "coffee(-10)"
   ]
  },
  {
   "cell_type": "markdown",
   "id": "9f6bac22",
   "metadata": {},
   "source": [
    "### result 변수"
   ]
  },
  {
   "cell_type": "code",
   "execution_count": 9,
   "id": "ce1bb391",
   "metadata": {},
   "outputs": [],
   "source": [
    "# result 변수 선언\n",
    "def coffee(temp):\n",
    "    result = ''\n",
    "    if temp > 0 :\n",
    "        result = '아이스 아메리카노'\n",
    "    else:\n",
    "        result = '따뜻한 아메리카노'\n",
    "    return result"
   ]
  },
  {
   "cell_type": "code",
   "execution_count": 14,
   "id": "1a956f99",
   "metadata": {},
   "outputs": [
    {
     "name": "stdout",
     "output_type": "stream",
     "text": [
      "추천 커피는 아이스 아메리카노입니다\n"
     ]
    }
   ],
   "source": [
    "# 기온 15도\n",
    "a = coffee(10)\n",
    "print('추천 커피는 {}입니다'.format(a))"
   ]
  },
  {
   "cell_type": "code",
   "execution_count": 15,
   "id": "74b5d0cd",
   "metadata": {},
   "outputs": [
    {
     "name": "stdout",
     "output_type": "stream",
     "text": [
      "추천 커피는 따뜻한 아메리카노입니다\n"
     ]
    }
   ],
   "source": [
    "# 기온 -5도\n",
    "b = coffee(-5)\n",
    "print('추천 커피는 {}입니다'.format(b))"
   ]
  },
  {
   "cell_type": "code",
   "execution_count": null,
   "id": "3c74a282",
   "metadata": {},
   "outputs": [],
   "source": []
  }
 ],
 "metadata": {
  "kernelspec": {
   "display_name": "Python 3 (ipykernel)",
   "language": "python",
   "name": "python3"
  },
  "language_info": {
   "codemirror_mode": {
    "name": "ipython",
    "version": 3
   },
   "file_extension": ".py",
   "mimetype": "text/x-python",
   "name": "python",
   "nbconvert_exporter": "python",
   "pygments_lexer": "ipython3",
   "version": "3.10.9"
  }
 },
 "nbformat": 4,
 "nbformat_minor": 5
}
